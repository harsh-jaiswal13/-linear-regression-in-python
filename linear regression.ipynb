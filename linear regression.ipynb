{
 "cells": [
  {
   "cell_type": "code",
   "execution_count": 112,
   "metadata": {},
   "outputs": [
    {
     "name": "stdout",
     "output_type": "stream",
     "text": [
      "3\n"
     ]
    }
   ],
   "source": []
  },
  {
   "cell_type": "code",
   "execution_count": 133,
   "metadata": {},
   "outputs": [
    {
     "name": "stdout",
     "output_type": "stream",
     "text": [
      "dataset of X  [2 3 4 5 6 7 8]\n",
      "dataset of Y [20 23 56 78 80 90 99]\n",
      "coavariance of X&Y is  56.42857142857143\n",
      "B0 estimate = -6.8214285714285765\n",
      "B1 estimate = 14.107142857142858\n",
      "fitted line==> Y= -6.8214285714285765 + 14.107142857142858 X\n",
      "Source of var        D.O.F       SS                         MS                    F\n",
      "REGRESSION             2         5575.142857142858       2787.571428571429       284.4460641399417\n",
      "RESIDUAL               5         49                         9.8      \n",
      "--------------------------------------------------------------------------------------\n",
      "TOTAL                   6         5624.142857142858      \n",
      "R square value = 0.991287561279179\n"
     ]
    },
    {
     "data": {
      "image/png": "[encoded data removed]",
      "text/plain": [
       "<Figure size 432x288 with 1 Axes>"
      ]
     },
     "metadata": {
      "needs_background": "light"
     },
     "output_type": "display_data"
    }
   ],
   "source": [
    "#def sum(filename):\n",
    " #   s=0\n",
    "  #  with open(filename) as f:\n",
    "   #     for line in f:\n",
    "    #        s=s+float(line)\n",
    "   # print('sumof ={0}'.format(s));\n",
    "    \n",
    "#if __name__=='__main__':\n",
    " #   sum('data.txt')\n",
    "        \n",
    "\n",
    "     #importing csv file        \n",
    "\n",
    "    \n",
    "import csv\n",
    "import matplotlib.pyplot as plt\n",
    "def scatter_plot(x,y):\n",
    "    plt.scatter(x,y)\n",
    "    plt.xlabel('X')\n",
    "    plt.ylabel('Y')\n",
    "def read_csv(filename):\n",
    "    X =[]\n",
    "    Y =[]\n",
    "    with open(filename) as f:\n",
    "        reader=csv.reader(f)\n",
    "        next(reader)\n",
    "        for row in reader:\n",
    "            X.append(int(row[0]))\n",
    "            Y.append(int(row[1]))\n",
    "        return X,Y\n",
    "    \n",
    "if __name__=='__main__':\n",
    "    X,Y=read_csv('mydata.csv')\n",
    "    scatter_plot(X,Y)\n",
    "\n",
    "    \n",
    "    #converting list into numpy arrays\n",
    "\n",
    "import numpy as np\n",
    "A=np.array(X)\n",
    "B=np.array(Y)\n",
    "print(\"dataset of X \",A)\n",
    "print(\"dataset of Y\",B)\n",
    "\n",
    "    # mean of x and y as mx and my\n",
    "my=sum(B)/len(B)\n",
    "mx=sum(A)/len(A)\n",
    "\n",
    "    # finding association b/w X&Y through corelation or Sxy\n",
    "\n",
    "    \n",
    "i=0\n",
    "covsum=0\n",
    "while(i<len(A)):\n",
    "        covsum=covsum+((mx-A[i])*(my-B[i]))\n",
    "        i=i+1\n",
    "covxy=covsum/len(A)\n",
    "print(\"coavariance of X&Y is \",covxy)\n",
    "\n",
    "     # finding variance of x or Sxx and y or Syy\n",
    "\n",
    "varsum=0\n",
    "i=0\n",
    "while(i<len(A)):\n",
    "        varsum=varsum+((mx-A[i])*(mx-A[i]))\n",
    "        i=i+1\n",
    "Sxx=varsum/len(A)\n",
    "varsum=0\n",
    "i=0\n",
    "while(i<len(A)):\n",
    "        varsum=varsum+((mx-B[i])*(mx-B[i]))\n",
    "        i=i+1\n",
    "\n",
    "Syy=varsum/len(A)\n",
    "\n",
    "\n",
    "     #calculating B0 and B1 estimate\n",
    "\n",
    "B1=covxy/Sxx\n",
    "B0=my-B1*mx\n",
    "print(\"B0 estimate =\",B0)\n",
    "print(\"B1 estimate =\",B1)\n",
    "print(\"fitted line==> Y=\",B0,\"+\",B1,\"X\")\n",
    "\n",
    "     #plotting fitted line with scatter plot\n",
    "\n",
    "B1, B0 = np.polyfit(A, B, 1)\n",
    "plt.plot(A, B1*A + B0)\n",
    "\n",
    "     # Calculate Y-estimate from fitted line\n",
    "est=[]\n",
    "i=0\n",
    "while(i<len(B)):\n",
    "        s=0\n",
    "        s=B0+B1*A[i]\n",
    "        est.append(int(s))\n",
    "        i=i+1\n",
    "Y_est=np.array(est)\n",
    "     # CALCULATING SSt ,SSres,SSreg\n",
    "\n",
    "i=0\n",
    "SSreg=0\n",
    "SSres=0\n",
    "while(i<len(B)):\n",
    "        SSreg=SSreg+(Y_est[i]-my)*(Y_est[i]-my)\n",
    "        SSres=(B[i]-Y_est[i])*(B[i]-Y_est[i])\n",
    "        i=i+1\n",
    "SSt=SSres+SSreg\n",
    " \n",
    "     \n",
    "        #ANOVA\n",
    "n=len(A)       \n",
    "print(\"Source of var\",\"     \",\" D.O.F\",\"     \",\"SS\",\"                       \",\"MS\",\"                  \",\"F\")\n",
    "print(\"REGRESSION\",\"           \",\"2\",\"       \",SSreg,\"     \",SSreg/2,\"     \",(SSreg/2)/(SSres/(n-2)))\n",
    "print(\"RESIDUAL\",\"             \",n-2,\"       \",SSres,\"                       \",SSres/(n-2),\"     \")    \n",
    "print(\"--------------------------------------------------------------------------------------\")\n",
    "print(\"TOTAL\",\"                 \",n-1,\"       \",SSt,\"     \")\n",
    "\n",
    "    # R square value\n",
    "print(\"R square value =\",1-(SSres/SSt))    \n",
    " "
   ]
  },
  {
   "cell_type": "code",
   "execution_count": null,
   "metadata": {},
   "outputs": [],
   "source": []
  },
  {
   "cell_type": "code",
   "execution_count": null,
   "metadata": {},
   "outputs": [],
   "source": []
  },
  {
   "cell_type": "code",
   "execution_count": null,
   "metadata": {},
   "outputs": [],
   "source": []
  },
  {
   "cell_type": "code",
   "execution_count": null,
   "metadata": {},
   "outputs": [],
   "source": []
  },
  {
   "cell_type": "code",
   "execution_count": null,
   "metadata": {},
   "outputs": [],
   "source": []
  },
  {
   "cell_type": "code",
   "execution_count": null,
   "metadata": {},
   "outputs": [],
   "source": []
  },
  {
   "cell_type": "code",
   "execution_count": null,
   "metadata": {},
   "outputs": [],
   "source": []
  },
  {
   "cell_type": "code",
   "execution_count": null,
   "metadata": {},
   "outputs": [],
   "source": []
  },
  {
   "cell_type": "code",
   "execution_count": null,
   "metadata": {},
   "outputs": [],
   "source": []
  },
  {
   "cell_type": "code",
   "execution_count": null,
   "metadata": {},
   "outputs": [],
   "source": []
  }
 ],
 "metadata": {
  "kernelspec": {
   "display_name": "Python 3",
   "language": "python",
   "name": "python3"
  }
 },
 "nbformat": 4,
 "nbformat_minor": 4
}
